{
  "nbformat": 4,
  "nbformat_minor": 0,
  "metadata": {
    "colab": {
      "name": "Algorytmy genetyczne.ipynb",
      "provenance": [],
      "include_colab_link": true
    },
    "kernelspec": {
      "name": "python3",
      "display_name": "Python 3"
    }
  },
  "cells": [
    {
      "cell_type": "markdown",
      "metadata": {
        "id": "view-in-github",
        "colab_type": "text"
      },
      "source": [
        "<a href=\"https://colab.research.google.com/github/mateuszklinowski/biologicallyInspiredAlgorithms/blob/master/Algorytmy_genetyczne.ipynb\" target=\"_parent\"><img src=\"https://colab.research.google.com/assets/colab-badge.svg\" alt=\"Open In Colab\"/></a>"
      ]
    },
    {
      "cell_type": "code",
      "metadata": {
        "id": "gOzghLZOFkiN",
        "colab_type": "code",
        "colab": {}
      },
      "source": [
        "import random\n",
        "\n",
        "password = \"123myRandomPassword456\"\n",
        "genes = \"abcdefghijklmnopqrstuvwxyzABCDEFGHIJKLMNOPQRSTUVWXYZ\"\n",
        "\n"
      ],
      "execution_count": 0,
      "outputs": []
    },
    {
      "cell_type": "markdown",
      "metadata": {
        "id": "ugpF6eVEGHcU",
        "colab_type": "text"
      },
      "source": [
        "Selection"
      ]
    },
    {
      "cell_type": "code",
      "metadata": {
        "id": "MP1UTv5sUIcy",
        "colab_type": "code",
        "colab": {}
      },
      "source": [
        "SELECTION_RANGE = 3\n",
        "\n",
        "def selectFromPopulation(population):\n",
        "  evaluatedPopulation = list(map(evaluate, population));\n",
        "  selection = [];\n",
        "\n",
        "  for idx, value in enumerate(evaluatedPopulation):\n",
        "    selection.append({\n",
        "        'score': value,\n",
        "        'unit': population[idx]\n",
        "    })\n",
        "\n",
        "  def getScore(dict):\n",
        "    return int(dict.get('score'))\n",
        "\n",
        "  selection.sort(key=getScore, reverse=True)\n",
        "  return selection[:SELECTION_RANGE];"
      ],
      "execution_count": 0,
      "outputs": []
    },
    {
      "cell_type": "markdown",
      "metadata": {
        "id": "2cdyGx6oGJTB",
        "colab_type": "text"
      },
      "source": [
        "Crossover"
      ]
    },
    {
      "cell_type": "code",
      "metadata": {
        "id": "GNJbKRdVSDGf",
        "colab_type": "code",
        "colab": {}
      },
      "source": [
        "def breed(unitA, unitB):\n",
        "  listUnitA = list(unitA);\n",
        "  listUnitB = list(unitB);\n",
        "  newUnit = [];\n",
        "  for idx, gene in enumerate(list(unitA)):\n",
        "    if random.random() > 0.5:\n",
        "      newGene = listUnitA[idx];\n",
        "    else:\n",
        "      newGene = listUnitB[idx];\n",
        "    newUnit.append(newGene);\n",
        "  return \"\".join(newUnit)"
      ],
      "execution_count": 0,
      "outputs": []
    },
    {
      "cell_type": "markdown",
      "metadata": {
        "id": "Fv28EoBDGLrS",
        "colab_type": "text"
      },
      "source": [
        "Mutation"
      ]
    },
    {
      "cell_type": "code",
      "metadata": {
        "id": "gOCvhWN5I4Ff",
        "colab_type": "code",
        "colab": {}
      },
      "source": [
        "def isMutating():\n",
        "  chance = random.random();\n",
        "  return chance < 0.05"
      ],
      "execution_count": 0,
      "outputs": []
    },
    {
      "cell_type": "code",
      "metadata": {
        "id": "HCJJQO7PM_lc",
        "colab_type": "code",
        "colab": {}
      },
      "source": [
        "def mutate(unit):\n",
        "  indexToMutate = int(round(random.random() * (len(unit) - 1)))\n",
        "  mutatedUnit = list(unit);\n",
        "  randomMutationIndex = int(round(random.random() * (len(genes) - 1)));\n",
        "  mutatedUnit[indexToMutate] = list(genes)[randomMutationIndex];\n",
        "  mutatedUnit = \"\".join(mutatedUnit)\n",
        "  return mutatedUnit"
      ],
      "execution_count": 0,
      "outputs": []
    },
    {
      "cell_type": "markdown",
      "metadata": {
        "id": "5ztrZpA8GNXn",
        "colab_type": "text"
      },
      "source": [
        "Evaluation"
      ]
    },
    {
      "cell_type": "code",
      "metadata": {
        "id": "lPtUIdExGYk4",
        "colab_type": "code",
        "colab": {}
      },
      "source": [
        "def evaluate(unit):\n",
        "  score = 0;\n",
        "  for idx, gen in enumerate(unit):\n",
        "    if password[idx] == gen:\n",
        "      score += 1;\n",
        "  return score;\n",
        "\n"
      ],
      "execution_count": 0,
      "outputs": []
    },
    {
      "cell_type": "markdown",
      "metadata": {
        "id": "7PTQA9rd0o05",
        "colab_type": "text"
      },
      "source": [
        "Skrypt algorytmu"
      ]
    },
    {
      "cell_type": "code",
      "metadata": {
        "id": "b5omGsqA0oPa",
        "colab_type": "code",
        "colab": {}
      },
      "source": [
        ""
      ],
      "execution_count": 0,
      "outputs": []
    }
  ]
}