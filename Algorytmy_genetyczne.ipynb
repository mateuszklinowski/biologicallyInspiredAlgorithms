{
  "nbformat": 4,
  "nbformat_minor": 0,
  "metadata": {
    "colab": {
      "name": "Algorytmy genetyczne.ipynb",
      "provenance": [],
      "include_colab_link": true
    },
    "kernelspec": {
      "name": "python3",
      "display_name": "Python 3"
    }
  },
  "cells": [
    {
      "cell_type": "markdown",
      "metadata": {
        "id": "view-in-github",
        "colab_type": "text"
      },
      "source": [
        "<a href=\"https://colab.research.google.com/github/mateuszklinowski/biologicallyInspiredAlgorithms/blob/master/Algorytmy_genetyczne.ipynb\" target=\"_parent\"><img src=\"https://colab.research.google.com/assets/colab-badge.svg\" alt=\"Open In Colab\"/></a>"
      ]
    },
    {
      "cell_type": "code",
      "metadata": {
        "id": "gOzghLZOFkiN",
        "colab_type": "code",
        "colab": {}
      },
      "source": [
        "import random\n",
        "\n",
        "password = \"123myRandomPassword456\"\n",
        "genes = \"123456abcdefghijklmnopqrstuvwxyzABCDEFGHIJKLMNOPQRSTUVWXYZ\"\n",
        "\n"
      ],
      "execution_count": 0,
      "outputs": []
    },
    {
      "cell_type": "markdown",
      "metadata": {
        "id": "5ztrZpA8GNXn",
        "colab_type": "text"
      },
      "source": [
        "Evaluation"
      ]
    },
    {
      "cell_type": "code",
      "metadata": {
        "id": "lPtUIdExGYk4",
        "colab_type": "code",
        "colab": {}
      },
      "source": [
        "def evaluate(unit):\n",
        "  score = 0;\n",
        "  for idx, gen in enumerate(unit):\n",
        "    if password[idx] == gen:\n",
        "      score += 1;\n",
        "  return score;\n",
        "\n"
      ],
      "execution_count": 0,
      "outputs": []
    },
    {
      "cell_type": "markdown",
      "metadata": {
        "id": "ugpF6eVEGHcU",
        "colab_type": "text"
      },
      "source": [
        "Selection"
      ]
    },
    {
      "cell_type": "code",
      "metadata": {
        "id": "MP1UTv5sUIcy",
        "colab_type": "code",
        "colab": {}
      },
      "source": [
        "SELECTION_RANGE = 100\n",
        "POPULATION_RANGE = 400\n",
        "\n",
        "def selectFromPopulation(population):\n",
        "  evaluatedPopulation = list(map(evaluate, population));\n",
        "  selection = [];\n",
        "\n",
        "  for idx, value in enumerate(evaluatedPopulation):\n",
        "    selection.append({\n",
        "        'score': value,\n",
        "        'unit': population[idx]\n",
        "    })\n",
        "\n",
        "  def getScore(dict):\n",
        "    return int(dict.get('score'))\n",
        "\n",
        "  selection.sort(key=getScore, reverse=True)\n",
        "  selection = list(map(lambda dict: dict.get('unit'), selection))\n",
        "  return selection[:SELECTION_RANGE];"
      ],
      "execution_count": 0,
      "outputs": []
    },
    {
      "cell_type": "code",
      "metadata": {
        "id": "y83p82Kx2GG1",
        "colab_type": "code",
        "colab": {}
      },
      "source": [
        "def randomUnit():\n",
        "  unit = [];\n",
        "  while len(unit) < len(password):\n",
        "    randomGeneIndex = int(round(random.random() * (len(genes) - 1)));\n",
        "    gene = list(genes)[randomGeneIndex]\n",
        "    unit.append(gene);\n",
        "  return \"\".join(unit)\n",
        "\n",
        "def getRandomInitialPopulation():\n",
        "  population = [];\n",
        "  while len(population) < POPULATION_RANGE:\n",
        "    population.append(randomUnit())\n",
        "  return population\n"
      ],
      "execution_count": 0,
      "outputs": []
    },
    {
      "cell_type": "code",
      "metadata": {
        "id": "VVXSGGgT3v97",
        "colab_type": "code",
        "colab": {
          "base_uri": "https://localhost:8080/",
          "height": 108
        },
        "outputId": "ce40754b-e877-45f4-98e5-f20dd329b848"
      },
      "source": [
        "selectFromPopulation(getRandomInitialPopulation())"
      ],
      "execution_count": 56,
      "outputs": [
        {
          "output_type": "execute_result",
          "data": {
            "text/plain": [
              "['bUOGOcbiegtvGWsUJROerw',\n",
              " 'tFVVbiaNHFpVBRLjbLzZob',\n",
              " 'ABsIAKrXJKkDyMsQGfLZEO',\n",
              " 'rTTIDuVROWRWXaVDePYIzA',\n",
              " 'PXtdrQzlGwRQVAgEBeURyQ']"
            ]
          },
          "metadata": {
            "tags": []
          },
          "execution_count": 56
        }
      ]
    },
    {
      "cell_type": "markdown",
      "metadata": {
        "id": "2cdyGx6oGJTB",
        "colab_type": "text"
      },
      "source": [
        "Crossover"
      ]
    },
    {
      "cell_type": "code",
      "metadata": {
        "id": "GNJbKRdVSDGf",
        "colab_type": "code",
        "colab": {}
      },
      "source": [
        "def breed(unitA, unitB):\n",
        "  listUnitA = list(unitA);\n",
        "  listUnitB = list(unitB);\n",
        "  newUnit = [];\n",
        "  for idx, gene in enumerate(list(unitA)):\n",
        "    if random.random() > 0.5:\n",
        "      newGene = listUnitA[idx];\n",
        "    else:\n",
        "      newGene = listUnitB[idx];\n",
        "    newUnit.append(newGene);\n",
        "  return \"\".join(newUnit)"
      ],
      "execution_count": 0,
      "outputs": []
    },
    {
      "cell_type": "code",
      "metadata": {
        "id": "ek_iDSi1mRzp",
        "colab_type": "code",
        "colab": {}
      },
      "source": [
        "def getRandomBreedPair(population):\n",
        "  population_length = len(population);\n",
        "  firstRandomIndex = int(round(random.random() * (population_length - 1)));\n",
        "  secondRandomIndex = int(round(random.random() * (population_length -1)));\n",
        "  while secondRandomIndex == firstRandomIndex:\n",
        "   secondRandomIndex = int(round(random.random() * (population_length - 1)));\n",
        "  return population[firstRandomIndex], population[secondRandomIndex]"
      ],
      "execution_count": 0,
      "outputs": []
    },
    {
      "cell_type": "markdown",
      "metadata": {
        "id": "Fv28EoBDGLrS",
        "colab_type": "text"
      },
      "source": [
        "Mutation"
      ]
    },
    {
      "cell_type": "code",
      "metadata": {
        "id": "gOCvhWN5I4Ff",
        "colab_type": "code",
        "colab": {}
      },
      "source": [
        "def isMutating():\n",
        "  chance = random.random();\n",
        "  return chance < 0.05"
      ],
      "execution_count": 0,
      "outputs": []
    },
    {
      "cell_type": "code",
      "metadata": {
        "id": "HCJJQO7PM_lc",
        "colab_type": "code",
        "colab": {}
      },
      "source": [
        "def mutate(unit):\n",
        "  indexToMutate = int(round(random.random() * (len(unit) - 1)))\n",
        "  mutatedUnit = list(unit);\n",
        "  randomMutationIndex = int(round(random.random() * (len(genes) - 1)));\n",
        "  mutatedUnit[indexToMutate] = list(genes)[randomMutationIndex];\n",
        "  mutatedUnit = \"\".join(mutatedUnit)\n",
        "  return mutatedUnit"
      ],
      "execution_count": 0,
      "outputs": []
    },
    {
      "cell_type": "markdown",
      "metadata": {
        "id": "7PTQA9rd0o05",
        "colab_type": "text"
      },
      "source": [
        "Skrypt algorytmu"
      ]
    },
    {
      "cell_type": "code",
      "metadata": {
        "id": "nxKQVRDiq270",
        "colab_type": "code",
        "colab": {}
      },
      "source": [
        "#helper function avg population score;\n",
        "import statistics \n",
        "\n",
        "def avgPopulationScore(population):\n",
        "  return statistics.mean(list(map(evaluate, population)))"
      ],
      "execution_count": 0,
      "outputs": []
    },
    {
      "cell_type": "code",
      "metadata": {
        "id": "b5omGsqA0oPa",
        "colab_type": "code",
        "colab": {
          "base_uri": "https://localhost:8080/",
          "height": 474
        },
        "outputId": "24f85fa7-22b5-4317-a3c8-6484e3ea9384"
      },
      "source": [
        "initialPopulation = getRandomInitialPopulation();\n",
        "selected = selectFromPopulation(initialPopulation);\n",
        "\n",
        "generations = 25;\n",
        "current_generation = 0;\n",
        "\n",
        "while current_generation < generations:\n",
        "  if len(selected) < 2:\n",
        "    raise NameError('population too low')\n",
        "\n",
        "  nextPopulation = [];\n",
        "  while len(nextPopulation) < POPULATION_RANGE:\n",
        "    unitA, unitB = getRandomBreedPair(selected);\n",
        "    newUnit = breed(unitA, unitB);\n",
        "    if isMutating():\n",
        "      newUnit = mutate(newUnit);\n",
        "    nextPopulation.append(newUnit)\n",
        "\n",
        "  if current_generation % 10:\n",
        "    print('Avg. population score: {0}'.format(avgPopulationScore(nextPopulation)))\n",
        "\n",
        "  selected = selectFromPopulation(nextPopulation);\n",
        "  current_generation += 1;\n",
        "\n",
        "\n",
        "print(selected);\n",
        "print(list(map(evaluate, selected)))\n"
      ],
      "execution_count": 118,
      "outputs": [
        {
          "output_type": "stream",
          "text": [
            "Avg. population score: 2.095\n",
            "Avg. population score: 3.2725\n",
            "Avg. population score: 4.7475\n",
            "Avg. population score: 6.555\n",
            "Avg. population score: 8.46\n",
            "Avg. population score: 10.4025\n",
            "Avg. population score: 12.495\n",
            "Avg. population score: 14.4725\n",
            "Avg. population score: 16.1975\n",
            "Avg. population score: 19.305\n",
            "Avg. population score: 20.255\n",
            "Avg. population score: 20.9575\n",
            "Avg. population score: 20.9575\n",
            "Avg. population score: 20.94\n",
            "Avg. population score: 20.9525\n",
            "Avg. population score: 20.96\n",
            "Avg. population score: 20.9675\n",
            "Avg. population score: 20.9525\n",
            "Avg. population score: 20.9625\n",
            "Avg. population score: 20.965\n",
            "Avg. population score: 20.955\n",
            "Avg. population score: 20.9475\n",
            "['b23myRandomPassword456', 'z23myRandomPassword456', 'b23myRandomPassword456', 'a23myRandomPassword456', 'D23myRandomPassword456', 'e23myRandomPassword456', 'e23myRandomPassword456', 'a23myRandomPassword456', 'D23myRandomPassword456', 'a23myRandomPassword456', 'b23myRandomPassword456', 'a23myRandomPassword456', 'D23myRandomPassword456', 'a23myRandomPassword456', 'a23myRandomPassword456', 'e23myRandomPassword456', 'a23myRandomPassword456', 'b23myRandomPassword456', 'b23myRandomPassword456', 'D23myRandomPassword456', 'a23myRandomPassword456', 'a23myRandomPassword456', 'a23myRandomPassword456', 'b23myRandomPassword456', 'b23myRandomPassword456', 'a23myRandomPassword456', 'a23myRandomPassword456', 'z23myRandomPassword456', 'z23myRandomPassword456', 'a23myRandomPassword456', 'h23myRandomPassword456', 'z23myRandomPassword456', 'b23myRandomPassword456', 'J23myRandomPassword456', 'D23myRandomPassword456', 'a23myRandomPassword456', 'b23myRandomPassword456', 'z23myRandomPassword456', 'a23myRandomPassword456', 'a23myRandomPassword456', 'b23myRandomPassword456', 'b23myRandomPassword456', 'a23myRandomPassword456', 'D23myRandomPassword456', 'a23myRandomPassword456', 'a23myRandomPassword456', 'z23myRandomPassword456', 'a23myRandomPassword456', 'a23myRandomPassword456', 'D23myRandomPassword456', 'D23myRandomPassword456', 'K23myRandomPassword456', 'a23myRandomPassword456', 'b23myRandomPassword456', 'a23myRandomPassword456', 'a23myRandomPassword456', 'D23myRandomPassword456', 'a23myRandomPassword456', 'a23myRandomPassword456', 'a23myRandomPassword456', 'D23myRandomPassword456', 'a23myRandomPassword456', 'b23myRandomPassword456', 'h23myRandomPassword456', 'z23myRandomPassword456', 'a23myRandomPassword456', 'z23myRandomPassword456', 'D23myRandomPassword456', 'b23myRandomPassword456', 'a23myRandomPassword456', 'J23myRandomPassword456', 'e23myRandomPassword456', 'a23myRandomPassword456', 'b23myRandomPassword456', 'a23myRandomPassword456', 'D23myRandomPassword456', 'b23myRandomPassword456', 'a23myRandomPassword456', 'z23myRandomPassword456', 'a23myRandomPassword456', 'b23myRandomPassword456', 'a23myRandomPassword456', 'a23myRandomPassword456', 'a23myRandomPassword456', 'a23myRandomPassword456', 'J23myRandomPassword456', 'b23myRandomPassword456', 'a23myRandomPassword456', 'a23myRandomPassword456', 'a23myRandomPassword456', 'h23myRandomPassword456', 'z23myRandomPassword456', 'a23myRandomPassword456', 'a23myRandomPassword456', 'z23myRandomPassword456', 'a23myRandomPassword456', 'z23myRandomPassword456', 'a23myRandomPassword456', 'e23myRandomPassword456', 'a23myRandomPassword456']\n",
            "[21, 21, 21, 21, 21, 21, 21, 21, 21, 21, 21, 21, 21, 21, 21, 21, 21, 21, 21, 21, 21, 21, 21, 21, 21, 21, 21, 21, 21, 21, 21, 21, 21, 21, 21, 21, 21, 21, 21, 21, 21, 21, 21, 21, 21, 21, 21, 21, 21, 21, 21, 21, 21, 21, 21, 21, 21, 21, 21, 21, 21, 21, 21, 21, 21, 21, 21, 21, 21, 21, 21, 21, 21, 21, 21, 21, 21, 21, 21, 21, 21, 21, 21, 21, 21, 21, 21, 21, 21, 21, 21, 21, 21, 21, 21, 21, 21, 21, 21, 21]\n"
          ],
          "name": "stdout"
        }
      ]
    }
  ]
}