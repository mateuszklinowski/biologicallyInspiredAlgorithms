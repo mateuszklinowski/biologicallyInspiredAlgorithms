{
  "nbformat": 4,
  "nbformat_minor": 0,
  "metadata": {
    "colab": {
      "name": "Regresja liniowa WSB.ipynb",
      "provenance": [],
      "collapsed_sections": [],
      "include_colab_link": true
    },
    "kernelspec": {
      "name": "python3",
      "display_name": "Python 3"
    }
  },
  "cells": [
    {
      "cell_type": "markdown",
      "metadata": {
        "id": "view-in-github",
        "colab_type": "text"
      },
      "source": [
        "<a href=\"https://colab.research.google.com/github/mateuszklinowski/biologicallyInspiredAlgorithms/blob/master/Regresja_liniowa_WSB.ipynb\" target=\"_parent\"><img src=\"https://colab.research.google.com/assets/colab-badge.svg\" alt=\"Open In Colab\"/></a>"
      ]
    },
    {
      "cell_type": "code",
      "metadata": {
        "id": "Dfocmz__3gXI",
        "colab_type": "code",
        "colab": {}
      },
      "source": [
        "import numpy as np\n",
        "import sklearn "
      ],
      "execution_count": 0,
      "outputs": []
    },
    {
      "cell_type": "code",
      "metadata": {
        "id": "b8puwTq46Chz",
        "colab_type": "code",
        "colab": {}
      },
      "source": [
        "age = [18,19,20,21,22,23,24,25,26,27,28,29];\n",
        "height = [76.1,77,78.1,78.2,78.8,79.7,79.9,81.1,81.2,81.8,82.8,83.5]"
      ],
      "execution_count": 0,
      "outputs": []
    },
    {
      "cell_type": "markdown",
      "metadata": {
        "id": "Y3lzsbakLXfS",
        "colab_type": "text"
      },
      "source": [
        "#Podejscie z zajec\n"
      ]
    },
    {
      "cell_type": "code",
      "metadata": {
        "id": "1rk-zF2m7Mvv",
        "colab_type": "code",
        "colab": {}
      },
      "source": [
        "import pandas as pd\n",
        "import numpy as np\n",
        "\n",
        "\n",
        "x = age\n",
        "y = height\n",
        "\n",
        "x_train = np.array(x)\n",
        "y_train = np.array(y)\n",
        "x_train_t = np.array(x).reshape(-1,1)"
      ],
      "execution_count": 0,
      "outputs": []
    },
    {
      "cell_type": "code",
      "metadata": {
        "id": "zg7x85857ALs",
        "colab_type": "code",
        "outputId": "41fd8be7-e350-4a79-ae66-d7c0a760ee1f",
        "colab": {
          "base_uri": "https://localhost:8080/",
          "height": 34
        }
      },
      "source": [
        "from sklearn.linear_model import LinearRegression \n",
        "from sklearn.metrics import r2_score\n",
        "\n",
        "clf = LinearRegression(normalize=True)\n",
        "res = clf.fit(x_train_t,y_train)\n",
        "y_pred = clf.predict(x_train_t)\n",
        "print(r2_score(y_train,y_pred))"
      ],
      "execution_count": 0,
      "outputs": [
        {
          "output_type": "stream",
          "text": [
            "0.988763937143289\n"
          ],
          "name": "stdout"
        }
      ]
    },
    {
      "cell_type": "code",
      "metadata": {
        "id": "tvXuj_249RZ-",
        "colab_type": "code",
        "outputId": "b6c856f5-271b-40bb-c3df-9bfc0310cf65",
        "colab": {
          "base_uri": "https://localhost:8080/",
          "height": 51
        }
      },
      "source": [
        "# Obliczenie tego \"recznie\"\n",
        "\n",
        "n = len(y_train);\n",
        "\n",
        "b_1_counter = (np.sum(x_train * y_train)) - ((np.sum(x_train) * (np.sum(y_train))/n));\n",
        "b_1_denominator = ( np.sum(x_train**2) - (np.sum(x_train)**2)/n)\n",
        "\n",
        "b_1 = b_1_counter/b_1_denominator;\n",
        "b_0 = np.average(y_train) -  b_1 * np.average(x_train)\n",
        "\n",
        "print(\"b0 -> \", b_0);\n",
        "print(\"b2 -> \", b_1);\n"
      ],
      "execution_count": 0,
      "outputs": [
        {
          "output_type": "stream",
          "text": [
            "b0 ->  64.9283216783212\n",
            "b2 ->  0.6349650349650553\n"
          ],
          "name": "stdout"
        }
      ]
    },
    {
      "cell_type": "markdown",
      "metadata": {
        "id": "Tk49MM4kM9BM",
        "colab_type": "text"
      },
      "source": [
        "MSE dla recznie obliczonych wartosci"
      ]
    },
    {
      "cell_type": "code",
      "metadata": {
        "id": "Jv465gKhCVW6",
        "colab_type": "code",
        "outputId": "8107c5e4-75e7-4fe5-e292-2cd857309bc0",
        "colab": {
          "base_uri": "https://localhost:8080/",
          "height": 68
        }
      },
      "source": [
        "y_pred_manual = b_0 + b_1 * x_train.reshape(-1,1);\n",
        "error_manual = y_pred_manual - y_train.reshape(-1,1);\n",
        "MSE_manual = np.sum(error_manual**2)/ len(y_pred_manual);\n",
        "\n",
        "y_pred_lin = clf.predict(x_train_t)\n",
        "error_lib = y_pred_lin - y_train;\n",
        "MSE_lib = np.sum(error_lib**2)/ len(y_pred_lin);\n",
        "\n",
        "y_pred_ml = a_0 + a_1 * x_train.reshape(-1,1);\n",
        "error_ml = y_pred_ml - y_train.reshape(-1,1);\n",
        "MSE_ml = np.sum(error_ml**2)/ len(y_pred_ml);\n",
        "\n",
        "print('Manual MSE -> ', MSE_manual);\n",
        "print('Lib MSE -> ', MSE_lib);\n",
        "print('ML MSE -> ', MSE_ml);"
      ],
      "execution_count": 0,
      "outputs": [
        {
          "output_type": "stream",
          "text": [
            "Manual MSE ->  0.05459790209790177\n",
            "Lib MSE ->  0.05459790209790142\n",
            "ML MSE ->  88.64560837566371\n"
          ],
          "name": "stdout"
        }
      ]
    },
    {
      "cell_type": "markdown",
      "metadata": {
        "id": "gMX_fxs5OJAO",
        "colab_type": "text"
      },
      "source": [
        "# Gradient descent"
      ]
    },
    {
      "cell_type": "code",
      "metadata": {
        "id": "_gp-dOW4RRbT",
        "colab_type": "code",
        "outputId": "776aad59-bf78-4fe3-a4ef-68939e6c7df5",
        "colab": {
          "base_uri": "https://localhost:8080/",
          "height": 34
        }
      },
      "source": [
        "#Setup variables\n",
        "n = len(y_pred);\n",
        "lerning_rate = 0.001;\n",
        "\n",
        "limit = 1000000;\n",
        "\n",
        "a_0 = np.zeros((n,1))\n",
        "a_1 = np.zeros((n,1))\n",
        "y_train.shape"
      ],
      "execution_count": 0,
      "outputs": [
        {
          "output_type": "execute_result",
          "data": {
            "text/plain": [
              "(12,)"
            ]
          },
          "metadata": {
            "tags": []
          },
          "execution_count": 115
        }
      ]
    },
    {
      "cell_type": "code",
      "metadata": {
        "id": "vjysX91GONBx",
        "colab_type": "code",
        "outputId": "11e59f23-ab12-4473-fb60-ec6d359b66fe",
        "colab": {
          "base_uri": "https://localhost:8080/",
          "height": 34
        }
      },
      "source": [
        "# Obliczenie \"recznie\" uzywając metod ML\n",
        "\n",
        "epochs = 0;\n",
        "while epochs < limit:\n",
        "  y_pred = a_0 + a_1 * x_train_t\n",
        "  error = y_pred - y_train.reshape(-1,1)\n",
        "  MSE = np.sum(error**2) / n\n",
        "\n",
        "  prev_a = a_0;\n",
        "  a_0 = a_0 - lerning_rate * (2/n) * np.sum(error) \n",
        "  a_1 = a_1 - lerning_rate * (2/n) * np.sum(error * x_train_t)\n",
        "\n",
        "  if(epochs%1000 == 0):\n",
        "    #lerning_rate = lerning_rate * 0.95;\n",
        "    print(MSE)\n",
        "  \n",
        "  if abs(prev_a[0][0] - a_0[0][0]) < 0.000000000000001:\n",
        "    break;\n",
        "\n",
        "  epochs += 1;\n",
        "\n",
        "#print(a_0[0])\n",
        "#print(a_1[0])"
      ],
      "execution_count": 0,
      "outputs": [
        {
          "output_type": "stream",
          "text": [
            "0.05459790209790082\n"
          ],
          "name": "stdout"
        }
      ]
    },
    {
      "cell_type": "code",
      "metadata": {
        "id": "mIT8xvT7YZDr",
        "colab_type": "code",
        "outputId": "026497d9-11b0-4eea-a04e-2bb20a8aa65e",
        "colab": {
          "base_uri": "https://localhost:8080/",
          "height": 221
        }
      },
      "source": [
        "error"
      ],
      "execution_count": 0,
      "outputs": [
        {
          "output_type": "execute_result",
          "data": {
            "text/plain": [
              "array([[ 0.25769231],\n",
              "       [-0.00734266],\n",
              "       [-0.47237762],\n",
              "       [ 0.06258741],\n",
              "       [ 0.09755245],\n",
              "       [-0.16748252],\n",
              "       [ 0.26748252],\n",
              "       [-0.29755245],\n",
              "       [ 0.23741259],\n",
              "       [ 0.27237762],\n",
              "       [-0.09265734],\n",
              "       [-0.15769231]])"
            ]
          },
          "metadata": {
            "tags": []
          },
          "execution_count": 89
        }
      ]
    },
    {
      "cell_type": "markdown",
      "metadata": {
        "id": "Umi8zAzh8zEd",
        "colab_type": "text"
      },
      "source": [
        "#Wykres danych"
      ]
    },
    {
      "cell_type": "code",
      "metadata": {
        "id": "a0EJeXyY7k-8",
        "colab_type": "code",
        "outputId": "80a2a3e4-4dae-4c78-d3b5-7e3ed30a14b5",
        "colab": {
          "base_uri": "https://localhost:8080/",
          "height": 592
        }
      },
      "source": [
        "import matplotlib.pyplot as plt \n",
        "\n",
        "y_plot_lib = []\n",
        "y_plot_manual = []\n",
        "y_plot_ml = []\n",
        "for i in range(15,35):\n",
        "    y_plot_lib.append(clf.predict(np.array([i]).reshape(-1,1)))\n",
        "    y_plot_manual.append(b_0 + b_1 * i)\n",
        "    y_plot_ml.append(a_0[0][0] + a_1[0][0] * i)\n",
        "plt.figure(figsize=(10,10))\n",
        "plt.scatter(age,height,color='red',label='GT')\n",
        "plt.plot(range(15,35),y_plot_lib,color='black',label = 'pred')\n",
        "plt.plot(range(15,35),y_plot_manual,color='blue',label = 'pred_manual')\n",
        "plt.plot(range(15,35),y_plot_ml,color='green',label = 'pred_manual')\n",
        "plt.legend()\n",
        "plt.show()"
      ],
      "execution_count": 0,
      "outputs": [
        {
          "output_type": "display_data",
          "data": {
            "image/png": "[encoded data removed]",
            "text/plain": [
              "<Figure size 720x720 with 1 Axes>"
            ]
          },
          "metadata": {
            "tags": []
          }
        }
      ]
    }
  ]
}